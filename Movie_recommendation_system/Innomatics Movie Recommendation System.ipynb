{
 "cells": [
  {
   "cell_type": "code",
   "execution_count": 1,
   "id": "a4c915f6-09d2-4b1e-911e-30b47695abed",
   "metadata": {},
   "outputs": [],
   "source": [
    "import pandas as pd\n",
    "import matplotlib.pyplot as plt"
   ]
  },
  {
   "cell_type": "code",
   "execution_count": 2,
   "id": "71872487-90c7-4249-a83b-ae991d6d1fdb",
   "metadata": {},
   "outputs": [],
   "source": [
    "# Load the dataset\n",
    "movies = pd.read_csv(r'D:\\ML Projects\\movie_data/movies.csv')\n",
    "ratings = pd.read_csv(r'D:\\ML Projects\\movie_data/ratings.csv')\n",
    "tags = pd.read_csv(r'D:\\ML Projects\\movie_data/tags.csv')"
   ]
  },
  {
   "cell_type": "code",
   "execution_count": 3,
   "id": "a5453d99-9abf-424a-8539-e588096ca51b",
   "metadata": {},
   "outputs": [
    {
     "name": "stdout",
     "output_type": "stream",
     "text": [
      "Shape of the 'movies.csv' file: (9742, 3)\n"
     ]
    }
   ],
   "source": [
    "# Display the shape of the dataset\n",
    "print(\"Shape of the 'movies.csv' file:\", movies.shape)"
   ]
  },
  {
   "cell_type": "code",
   "execution_count": 4,
   "id": "1cc7a772-80b2-4b5c-8ac6-e32d15a85003",
   "metadata": {},
   "outputs": [
    {
     "name": "stdout",
     "output_type": "stream",
     "text": [
      "Shape of the 'ratings.csv' file: (100836, 4)\n"
     ]
    }
   ],
   "source": [
    "print(\"Shape of the 'ratings.csv' file:\", ratings.shape)"
   ]
  },
  {
   "cell_type": "code",
   "execution_count": 5,
   "id": "20d9780f-6e23-4b28-aa42-af49886864e6",
   "metadata": {},
   "outputs": [
    {
     "name": "stdout",
     "output_type": "stream",
     "text": [
      "Number of unique userIds: 610\n"
     ]
    }
   ],
   "source": [
    "unique_users = ratings['userId'].nunique()\n",
    "print(\"Number of unique userIds:\", unique_users)"
   ]
  },
  {
   "cell_type": "code",
   "execution_count": 6,
   "id": "4606c29e-b62b-4732-ada2-c5f1a723c79d",
   "metadata": {},
   "outputs": [],
   "source": [
    "# Count the number of ratings for each movieId\n",
    "rating_counts = ratings['movieId'].value_counts().reset_index()\n",
    "rating_counts.columns = ['movieId', 'ratingCount']"
   ]
  },
  {
   "cell_type": "code",
   "execution_count": 7,
   "id": "06336163-1c54-41cd-bed2-cabdad709788",
   "metadata": {},
   "outputs": [],
   "source": [
    "# Merge with the movies dataset to get the movie titles\n",
    "movie_ratings = pd.merge(rating_counts, movies, on='movieId')"
   ]
  },
  {
   "cell_type": "code",
   "execution_count": 8,
   "id": "a87c0dd8-a4bc-42a8-a8c1-c7eacb191cd6",
   "metadata": {},
   "outputs": [],
   "source": [
    "# Find the movie with the maximum number of ratings\n",
    "max_rated_movie = movie_ratings[movie_ratings['ratingCount'] == movie_ratings['ratingCount'].max()]"
   ]
  },
  {
   "cell_type": "code",
   "execution_count": 9,
   "id": "7dd9900e-8206-44c6-9bf1-bae9cb6106b0",
   "metadata": {},
   "outputs": [
    {
     "name": "stdout",
     "output_type": "stream",
     "text": [
      "Movie with the maximum number of ratings:\n",
      "                 title  ratingCount\n",
      "0  Forrest Gump (1994)          329\n"
     ]
    }
   ],
   "source": [
    "print(\"Movie with the maximum number of ratings:\")\n",
    "print(max_rated_movie[['title', 'ratingCount']])"
   ]
  },
  {
   "cell_type": "code",
   "execution_count": 10,
   "id": "a33417bf-c0a2-48b9-a9fe-bd5b6fb2ab27",
   "metadata": {},
   "outputs": [],
   "source": [
    "# Find the movieId for \"The Matrix (1999)\"\n",
    "matrix_id = movies[movies['title'] == \"Matrix, The (1999)\"]['movieId'].iloc[0]"
   ]
  },
  {
   "cell_type": "code",
   "execution_count": 11,
   "id": "4e1682f3-22c9-438e-bc66-f8d9b8965076",
   "metadata": {},
   "outputs": [],
   "source": [
    "# Filter tags for \"The Matrix (1999)\"\n",
    "matrix_tags = tags[tags['movieId'] == matrix_id]"
   ]
  },
  {
   "cell_type": "code",
   "execution_count": 12,
   "id": "b2880d52-0ef9-4f00-83bf-741bd44fa7a1",
   "metadata": {},
   "outputs": [],
   "source": [
    "# Get unique tags\n",
    "unique_tags = matrix_tags['tag'].unique()"
   ]
  },
  {
   "cell_type": "code",
   "execution_count": 13,
   "id": "d8625e5a-ec4a-44cc-b3fd-19beb47a474a",
   "metadata": {},
   "outputs": [
    {
     "name": "stdout",
     "output_type": "stream",
     "text": [
      "Unique tags for 'The Matrix (1999)':\n",
      "['martial arts' 'sci-fi' 'alternate universe' 'philosophy'\n",
      " 'post apocalyptic']\n"
     ]
    }
   ],
   "source": [
    "print(\"Unique tags for 'The Matrix (1999)':\")\n",
    "print(unique_tags)"
   ]
  },
  {
   "cell_type": "code",
   "execution_count": 14,
   "id": "d919af6e-1565-494b-8129-408e7a75b4d7",
   "metadata": {},
   "outputs": [],
   "source": [
    "# Find the movieId for \"Terminator 2: Judgment Day (1991)\"\n",
    "terminator_id = movies[movies['title'] == \"Terminator 2: Judgment Day (1991)\"]['movieId'].iloc[0]"
   ]
  },
  {
   "cell_type": "code",
   "execution_count": 15,
   "id": "d53b719a-7dd9-415a-af08-e75248defeb9",
   "metadata": {},
   "outputs": [],
   "source": [
    "# Filter ratings for \"Terminator 2: Judgment Day (1991)\"\n",
    "terminator_ratings = ratings[ratings['movieId'] == terminator_id]"
   ]
  },
  {
   "cell_type": "code",
   "execution_count": 16,
   "id": "d83d4e51-63ee-4b50-805a-9123179d1b72",
   "metadata": {},
   "outputs": [],
   "source": [
    "# Calculate the average rating\n",
    "average_rating = terminator_ratings['rating'].mean()"
   ]
  },
  {
   "cell_type": "code",
   "execution_count": 17,
   "id": "1a14b932-cb8d-4095-b0f3-1bbaec54453d",
   "metadata": {},
   "outputs": [
    {
     "name": "stdout",
     "output_type": "stream",
     "text": [
      "Average user rating for 'Terminator 2: Judgment Day (1991)': 3.970982142857143\n"
     ]
    }
   ],
   "source": [
    "print(\"Average user rating for 'Terminator 2: Judgment Day (1991)':\", average_rating)"
   ]
  },
  {
   "cell_type": "code",
   "execution_count": 18,
   "id": "f51c7e31-5209-415e-ab67-7dc5aad24d48",
   "metadata": {},
   "outputs": [],
   "source": [
    "# Find the movieId for \"Fight Club (1999)\"\n",
    "fight_club_id = movies[movies['title'] == \"Fight Club (1999)\"]['movieId'].iloc[0]"
   ]
  },
  {
   "cell_type": "code",
   "execution_count": 19,
   "id": "1fbedb72-8dfa-407d-b6d8-12b950ff628a",
   "metadata": {},
   "outputs": [],
   "source": [
    "# Filter ratings for \"Fight Club (1999)\"\n",
    "fight_club_ratings = ratings[ratings['movieId'] == fight_club_id]"
   ]
  },
  {
   "cell_type": "code",
   "execution_count": 20,
   "id": "bcbe58ec-651b-4212-9f54-39e58597cb4c",
   "metadata": {},
   "outputs": [
    {
     "data": {
      "image/png": "[encoded data removed]",
      "text/plain": [
       "<Figure size 1000x500 with 1 Axes>"
      ]
     },
     "metadata": {},
     "output_type": "display_data"
    }
   ],
   "source": [
    "# Plot the distribution of ratings\n",
    "plt.figure(figsize=(10, 5))\n",
    "plt.hist(fight_club_ratings['rating'], bins=10, edgecolor='black', alpha=0.7)\n",
    "plt.title('Distribution of User Ratings for \"Fight Club (1999)\"')\n",
    "plt.xlabel('Rating')\n",
    "plt.ylabel('Number of Ratings')\n",
    "plt.grid(True)\n",
    "plt.show()"
   ]
  },
  {
   "cell_type": "code",
   "execution_count": 21,
   "id": "92d20c23-ed17-4e48-a4c2-168f8d97881a",
   "metadata": {},
   "outputs": [],
   "source": [
    "# Group ratings by movieId and calculate count and mean\n",
    "rating_stats = ratings.groupby('movieId')['rating'].agg(['count', 'mean']).reset_index()\n",
    "rating_stats.columns = ['movieId', 'ratingCount', 'averageRating']"
   ]
  },
  {
   "cell_type": "code",
   "execution_count": 22,
   "id": "b573c3c7-6972-419d-a3c4-a9358195a514",
   "metadata": {},
   "outputs": [],
   "source": [
    "# Inner join the grouped data with the movies data\n",
    "movie_data = pd.merge(movies, rating_stats, on='movieId', how='inner')"
   ]
  },
  {
   "cell_type": "code",
   "execution_count": 23,
   "id": "a4fafded-340f-48e3-b469-be982a4c86af",
   "metadata": {},
   "outputs": [],
   "source": [
    "# Filter movies with more than 50 user ratings\n",
    "filtered_movies = movie_data[movie_data['ratingCount'] > 50]"
   ]
  },
  {
   "cell_type": "code",
   "execution_count": 24,
   "id": "f520dd66-a927-4533-b7b5-1da38421129a",
   "metadata": {},
   "outputs": [
    {
     "name": "stdout",
     "output_type": "stream",
     "text": [
      "Data prepared with movies having more than 50 ratings:\n",
      "   movieId                    title  \\\n",
      "0        1         Toy Story (1995)   \n",
      "1        2           Jumanji (1995)   \n",
      "2        3  Grumpier Old Men (1995)   \n",
      "5        6              Heat (1995)   \n",
      "6        7           Sabrina (1995)   \n",
      "\n",
      "                                        genres  ratingCount  averageRating  \n",
      "0  Adventure|Animation|Children|Comedy|Fantasy          215       3.920930  \n",
      "1                   Adventure|Children|Fantasy          110       3.431818  \n",
      "2                               Comedy|Romance           52       3.259615  \n",
      "5                        Action|Crime|Thriller          102       3.946078  \n",
      "6                               Comedy|Romance           54       3.185185  \n"
     ]
    }
   ],
   "source": [
    "print(\"Data prepared with movies having more than 50 ratings:\")\n",
    "print(filtered_movies.head())  # Display the first few rows to check the result"
   ]
  },
  {
   "cell_type": "code",
   "execution_count": 25,
   "id": "05302661-07c3-4432-ac02-f808fd2f5e21",
   "metadata": {},
   "outputs": [],
   "source": [
    "# List of specific movies to check\n",
    "movie_titles = [\n",
    "    \"Godfather, The (1972)\",\n",
    "    \"Shawshank Redemption, The (1994)\",\n",
    "    \"Jumanji (1995)\",\n",
    "    \"Wolf of Wall Street, The (2013)\"\n",
    "]"
   ]
  },
  {
   "cell_type": "code",
   "execution_count": 26,
   "id": "089ca9fc-7d41-45fb-84e6-94adc0ef16ab",
   "metadata": {},
   "outputs": [],
   "source": [
    "# Filter the DataFrame to include only the specified movies\n",
    "specific_movies = filtered_movies[filtered_movies['title'].isin(movie_titles)]"
   ]
  },
  {
   "cell_type": "code",
   "execution_count": 27,
   "id": "c80df5ee-cd6f-47f3-afa6-0ca6bfba47cc",
   "metadata": {},
   "outputs": [],
   "source": [
    "# Find the movie with the highest average rating\n",
    "most_popular_movie = specific_movies.loc[specific_movies['averageRating'].idxmax()]"
   ]
  },
  {
   "cell_type": "code",
   "execution_count": 28,
   "id": "608feea4-5bb7-4630-b06b-ed854df7ac60",
   "metadata": {},
   "outputs": [
    {
     "name": "stdout",
     "output_type": "stream",
     "text": [
      "The most popular movie based on average ratings is:\n",
      "title            Shawshank Redemption, The (1994)\n",
      "averageRating                            4.429022\n",
      "Name: 277, dtype: object\n"
     ]
    }
   ],
   "source": [
    "print(\"The most popular movie based on average ratings is:\")\n",
    "print(most_popular_movie[['title', 'averageRating']])"
   ]
  },
  {
   "cell_type": "code",
   "execution_count": 29,
   "id": "e3edeab4-09a7-44df-b2be-fb9c814550b5",
   "metadata": {},
   "outputs": [],
   "source": [
    "# Sort the DataFrame by 'ratingCount' in descending order and get the top 5\n",
    "top_rated_movies = filtered_movies.sort_values(by='ratingCount', ascending=False).head(5)"
   ]
  },
  {
   "cell_type": "code",
   "execution_count": 30,
   "id": "ab49d7d2-59f6-4621-99eb-20a253a46050",
   "metadata": {},
   "outputs": [],
   "source": [
    "# List of movies to check\n",
    "movies_to_check = [\n",
    "    \"Pulp Fiction (1994)\",\n",
    "    \"Bad Boys (1995)\",\n",
    "    \"Silence of the Lambs, The (1991)\",\n",
    "    \"Matrix, The (1999)\"\n",
    "]"
   ]
  },
  {
   "cell_type": "code",
   "execution_count": 31,
   "id": "053597f7-55a2-490f-9bc3-788eb00ad154",
   "metadata": {},
   "outputs": [],
   "source": [
    "# Filter the top 5 to see if any of the specified movies are included\n",
    "top_movies_check = top_rated_movies[top_rated_movies['title'].isin(movies_to_check)]"
   ]
  },
  {
   "cell_type": "code",
   "execution_count": 32,
   "id": "8d7a1db4-2a01-4248-a5d0-58fc339b9893",
   "metadata": {},
   "outputs": [
    {
     "name": "stdout",
     "output_type": "stream",
     "text": [
      "Specified movies in the top 5 based on the number of user ratings:\n",
      "                                 title  ratingCount\n",
      "257                Pulp Fiction (1994)          307\n",
      "510   Silence of the Lambs, The (1991)          279\n",
      "1938                Matrix, The (1999)          278\n"
     ]
    }
   ],
   "source": [
    "print(\"Specified movies in the top 5 based on the number of user ratings:\")\n",
    "print(top_movies_check[['title', 'ratingCount']])"
   ]
  },
  {
   "cell_type": "code",
   "execution_count": 33,
   "id": "193a681a-b5c0-486a-b267-6e4201ce3990",
   "metadata": {},
   "outputs": [],
   "source": [
    "# Filter for Sci-Fi movies\n",
    "sci_fi_movies = filtered_movies[filtered_movies['genres'].str.contains(\"Sci-Fi\")]"
   ]
  },
  {
   "cell_type": "code",
   "execution_count": 34,
   "id": "e12272aa-7197-4cf2-ab95-154dbb4e8788",
   "metadata": {},
   "outputs": [],
   "source": [
    "# Sort the Sci-Fi movies by 'ratingCount' in descending order\n",
    "sorted_sci_fi_movies = sci_fi_movies.sort_values(by='ratingCount', ascending=False)"
   ]
  },
  {
   "cell_type": "code",
   "execution_count": 35,
   "id": "1742c907-ac97-40b5-a1ba-2df2826f3293",
   "metadata": {},
   "outputs": [],
   "source": [
    "# Select the third most popular Sci-Fi movie\n",
    "third_most_popular_sci_fi = sorted_sci_fi_movies.iloc[2]  # Indexing starts at 0"
   ]
  },
  {
   "cell_type": "code",
   "execution_count": 36,
   "id": "d791a036-9f4b-4e64-ae1c-45a70eca07d9",
   "metadata": {},
   "outputs": [
    {
     "name": "stdout",
     "output_type": "stream",
     "text": [
      "Third most popular Sci-Fi movie based on the number of user ratings:\n",
      "title          Jurassic Park (1993)\n",
      "ratingCount                     238\n",
      "Name: 418, dtype: object\n"
     ]
    }
   ],
   "source": [
    "print(\"Third most popular Sci-Fi movie based on the number of user ratings:\")\n",
    "print(third_most_popular_sci_fi[['title', 'ratingCount']])"
   ]
  },
  {
   "cell_type": "code",
   "execution_count": 78,
   "id": "98d69799-38c8-4875-9509-d58b4fb46df4",
   "metadata": {},
   "outputs": [],
   "source": [
    "import pandas as pd\n",
    "import requests\n",
    "from bs4 import BeautifulSoup\n",
    "import json\n",
    "import time"
   ]
  },
  {
   "cell_type": "code",
   "execution_count": 80,
   "id": "83e0dad6-b02b-4cd2-941d-09dcf6411aae",
   "metadata": {},
   "outputs": [],
   "source": [
    "# Function to scrape IMDb reviews for a given IMDb ID\n",
    "def scrape_imdb_reviews(imdb_id):\n",
    "    reviews = []\n",
    "    imdb_id_str = str(imdb_id).zfill(7)  # Ensure the IMDb ID is 7 digits\n",
    "    url = f\"https://www.imdb.com/title/tt{imdb_id_str}/reviews\"\n",
    "    headers = {\n",
    "        'User-Agent': 'Mozilla/5.0 (Windows NT 10.0; Win64; x64; rv:109.0) Gecko/20100101 Firefox/119.0'\n",
    "    }\n",
    "    \n",
    "    try:\n",
    "        response = requests.get(url, headers=headers)\n",
    "        if response.status_code == 200:\n",
    "            soup = BeautifulSoup(response.content, 'html.parser')\n",
    "            review_elements = soup.find_all('div', class_='text show-more__control')\n",
    "            reviews = [review.get_text() for review in review_elements]\n",
    "            if not reviews:\n",
    "                print(f\"No reviews found for IMDb ID {imdb_id}\")\n",
    "        else:\n",
    "            print(f\"Failed to retrieve reviews for IMDb ID {imdb_id}: Status Code {response.status_code}\")\n",
    "    except Exception as e:\n",
    "        print(f\"Error occurred while scraping IMDb ID {imdb_id}: {str(e)}\")\n",
    "    \n",
    "    return reviews"
   ]
  },
  {
   "cell_type": "code",
   "execution_count": 86,
   "id": "b519dde9-a903-4da3-80ca-2525d97987cd",
   "metadata": {},
   "outputs": [],
   "source": [
    "# Load the links.csv file\n",
    "ratings_df = pd.read_csv(r'D:\\ML Projects\\movie_data/ratings.csv')"
   ]
  },
  {
   "cell_type": "code",
   "execution_count": 88,
   "id": "28408fa5-a8a6-47f4-8d2b-df948b93bb9e",
   "metadata": {},
   "outputs": [],
   "source": [
    "# Calculate the number of ratings for each movie\n",
    "rating_counts = ratings_df.groupby('movieId').size().reset_index(name='ratingCount')"
   ]
  },
  {
   "cell_type": "code",
   "execution_count": 90,
   "id": "0627ce80-785d-4339-ad42-3ee29d2b6adb",
   "metadata": {},
   "outputs": [],
   "source": [
    "# Now filter movies with more than 50 ratings\n",
    "filtered_movies = rating_counts[rating_counts['ratingCount'] > 50]"
   ]
  },
  {
   "cell_type": "code",
   "execution_count": 92,
   "id": "b31723c5-cb93-44b8-be80-36b341ab1990",
   "metadata": {},
   "outputs": [],
   "source": [
    "# Merge with links_df to get the corresponding IMDb IDs\n",
    "filtered_links = pd.merge(filtered_movies, links_df, on='movieId')"
   ]
  },
  {
   "cell_type": "code",
   "execution_count": 94,
   "id": "e46966e7-16a8-4f42-b9d6-97db545136aa",
   "metadata": {},
   "outputs": [],
   "source": [
    "# Extract the IMDb IDs for the filtered movies\n",
    "imdb_ids = filtered_links['imdbId'].tolist()"
   ]
  },
  {
   "cell_type": "code",
   "execution_count": 96,
   "id": "9f522d45-23d9-4fa1-b38c-95dff11e019c",
   "metadata": {},
   "outputs": [],
   "source": [
    "# Initialize a dictionary to store the reviews\n",
    "all_reviews = {}"
   ]
  },
  {
   "cell_type": "code",
   "execution_count": 98,
   "id": "74f6e731-60fc-45cd-9b71-cd58715f36bd",
   "metadata": {},
   "outputs": [],
   "source": [
    "# Function to scrape IMDb reviews for a given IMDb ID\n",
    "def scrape_imdb_reviews(imdb_id):\n",
    "    reviews = []\n",
    "    imdb_id_str = str(imdb_id).zfill(7)  # Ensure the IMDb ID is 7 digits\n",
    "    url = f\"https://www.imdb.com/title/tt{imdb_id_str}/reviews\"\n",
    "    headers = {\n",
    "        'User-Agent': 'Mozilla/5.0 (Windows NT 10.0; Win64; x64; rv:109.0) Gecko/20100101 Firefox/119.0'\n",
    "    }\n",
    "    \n",
    "    try:\n",
    "        response = requests.get(url, headers=headers)\n",
    "        if response.status_code == 200:\n",
    "            soup = BeautifulSoup(response.content, 'html.parser')\n",
    "            review_elements = soup.find_all('div', class_='text show-more__control')\n",
    "            reviews = [review.get_text() for review in review_elements]\n",
    "            if not reviews:\n",
    "                print(f\"No reviews found for IMDb ID {imdb_id}\")\n",
    "        else:\n",
    "            print(f\"Failed to retrieve reviews for IMDb ID {imdb_id}: Status Code {response.status_code}\")\n",
    "    except Exception as e:\n",
    "        print(f\"Error occurred while scraping IMDb ID {imdb_id}: {str(e)}\")\n",
    "    \n",
    "    return reviews"
   ]
  },
  {
   "cell_type": "code",
   "execution_count": 100,
   "id": "e85d5710-75b7-491b-8085-719a2d7de2b0",
   "metadata": {},
   "outputs": [],
   "source": [
    "# Scrape reviews for each IMDb ID\n",
    "start_time = time.time()\n",
    "for imdb_id in imdb_ids:\n",
    "    try:\n",
    "        reviews = scrape_imdb_reviews(imdb_id)\n",
    "        all_reviews[imdb_id] = reviews\n",
    "        \n",
    "        # Save intermediate results to avoid data loss\n",
    "        with open('imdb_reviews.json', 'w') as f:\n",
    "            json.dump(all_reviews, f)\n",
    "        \n",
    "    except Exception as e:\n",
    "        print(f\"Failed to scrape IMDb ID {imdb_id}: {e}\")"
   ]
  },
  {
   "cell_type": "code",
   "execution_count": 101,
   "id": "7ca6b8de-0140-4a55-aa98-ddf9cae1f6f9",
   "metadata": {},
   "outputs": [
    {
     "name": "stdout",
     "output_type": "stream",
     "text": [
      "Scraping completed in 841.0442967414856 seconds\n"
     ]
    }
   ],
   "source": [
    "end_time = time.time()\n",
    "print(f\"Scraping completed in {end_time - start_time} seconds\")"
   ]
  },
  {
   "cell_type": "code",
   "execution_count": 102,
   "id": "4e7d1eb5-15bc-4cdc-873f-5aa9a0fa28ad",
   "metadata": {},
   "outputs": [],
   "source": [
    "# Save the final results\n",
    "with open('final_imdb_reviews.json', 'w') as f:\n",
    "    json.dump(all_reviews, f)"
   ]
  },
  {
   "cell_type": "code",
   "execution_count": 124,
   "id": "9c8c872c-0212-438d-a35f-b708138dc24c",
   "metadata": {},
   "outputs": [],
   "source": [
    "# Load the CSV files\n",
    "ratings_df = pd.read_csv(r'D:\\ML Projects\\movie_data/ratings.csv')\n",
    "links_df = pd.read_csv(r'D:\\ML Projects\\movie_data/links.csv')\n",
    "movies_df = pd.read_csv(r'D:\\ML Projects\\movie_data/movies.csv')"
   ]
  },
  {
   "cell_type": "code",
   "execution_count": 126,
   "id": "9d0dc51e-2add-44b2-9f17-cec9e76bcc03",
   "metadata": {},
   "outputs": [],
   "source": [
    "average_ratings = ratings_df.groupby('movieId')['rating'].mean().reset_index()\n",
    "average_ratings = average_ratings.rename(columns={'rating': 'averageRating'})"
   ]
  },
  {
   "cell_type": "code",
   "execution_count": 128,
   "id": "546b8ff1-08e8-45bb-98b2-3647b266a43d",
   "metadata": {},
   "outputs": [],
   "source": [
    "merged_df = pd.merge(average_ratings, links_df, on='movieId')"
   ]
  },
  {
   "cell_type": "code",
   "execution_count": 130,
   "id": "71881690-2bfc-4c90-a5f8-55d203af38a0",
   "metadata": {},
   "outputs": [],
   "source": [
    "highest_rated_movie = merged_df.loc[merged_df['averageRating'].idxmax()]"
   ]
  },
  {
   "cell_type": "code",
   "execution_count": 132,
   "id": "1492d1e7-2dbf-4ff6-9631-b5138d5aaee4",
   "metadata": {},
   "outputs": [],
   "source": [
    "highest_rated_movie_title = movies_df[movies_df['movieId'] == highest_rated_movie['movieId']]['title'].values[0]"
   ]
  },
  {
   "cell_type": "code",
   "execution_count": 134,
   "id": "e824e623-177f-4c4e-8a14-1ea02aab1a7a",
   "metadata": {},
   "outputs": [
    {
     "name": "stdout",
     "output_type": "stream",
     "text": [
      "Movie ID with the highest IMDb rating: 53.0\n",
      "IMDb ID: 110299.0\n",
      "Movie Title: Lamerica (1994)\n",
      "Average Rating: 5.0\n"
     ]
    }
   ],
   "source": [
    "# Output the results\n",
    "print(f\"Movie ID with the highest IMDb rating: {highest_rated_movie['movieId']}\")\n",
    "print(f\"IMDb ID: {highest_rated_movie['imdbId']}\")\n",
    "print(f\"Movie Title: {highest_rated_movie_title}\")\n",
    "print(f\"Average Rating: {highest_rated_movie['averageRating']}\")"
   ]
  },
  {
   "cell_type": "code",
   "execution_count": 136,
   "id": "ddc8cded-69ce-4389-bff1-6f699180f922",
   "metadata": {},
   "outputs": [],
   "source": [
    "sci_fi_movies = movies_df[movies_df['genres'].str.contains('Sci-Fi', case=False, na=False)]"
   ]
  },
  {
   "cell_type": "code",
   "execution_count": 138,
   "id": "950db1b7-18a3-4ca2-947c-87a50ff023c8",
   "metadata": {},
   "outputs": [],
   "source": [
    "sci_fi_ratings = pd.merge(sci_fi_movies, merged_df, on='movieId')"
   ]
  },
  {
   "cell_type": "code",
   "execution_count": 140,
   "id": "89248842-1428-481c-aad7-c19c630dcabf",
   "metadata": {},
   "outputs": [],
   "source": [
    "highest_rated_sci_fi_movie = sci_fi_ratings.loc[sci_fi_ratings['averageRating'].idxmax()]"
   ]
  },
  {
   "cell_type": "code",
   "execution_count": 142,
   "id": "b3319a0e-0ec0-403e-a6ac-7be1feea1220",
   "metadata": {},
   "outputs": [
    {
     "name": "stdout",
     "output_type": "stream",
     "text": [
      "Movie ID with the highest IMDb rating in Sci-Fi genre: 3687\n",
      "IMDb ID: 95525\n",
      "Movie Title: Light Years (Gandahar) (1988)\n",
      "Average Rating: 5.0\n"
     ]
    }
   ],
   "source": [
    "# Output the results\n",
    "print(f\"Movie ID with the highest IMDb rating in Sci-Fi genre: {highest_rated_sci_fi_movie['movieId']}\")\n",
    "print(f\"IMDb ID: {highest_rated_sci_fi_movie['imdbId']}\")\n",
    "print(f\"Movie Title: {highest_rated_sci_fi_movie['title']}\")\n",
    "print(f\"Average Rating: {highest_rated_sci_fi_movie['averageRating']}\")"
   ]
  },
  {
   "cell_type": "code",
   "execution_count": null,
   "id": "f2e5c9e1-b93c-4f41-808a-cf41a6afde6f",
   "metadata": {},
   "outputs": [],
   "source": []
  }
 ],
 "metadata": {
  "kernelspec": {
   "display_name": "Python 3 (ipykernel)",
   "language": "python",
   "name": "python3"
  },
  "language_info": {
   "codemirror_mode": {
    "name": "ipython",
    "version": 3
   },
   "file_extension": ".py",
   "mimetype": "text/x-python",
   "name": "python",
   "nbconvert_exporter": "python",
   "pygments_lexer": "ipython3",
   "version": "3.12.4"
  }
 },
 "nbformat": 4,
 "nbformat_minor": 5
}
